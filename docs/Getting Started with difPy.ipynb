{
 "cells": [
  {
   "cell_type": "markdown",
   "metadata": {},
   "source": [
    "# Getting Started with difPy\n",
    "\n",
    "This notebook contains code samples on how to use the [difPy](https://github.com/elisemercury/Duplicate-Image-Finder) Python package for finding duplicate/similar images."
   ]
  },
  {
   "cell_type": "code",
   "execution_count": 1,
   "metadata": {},
   "outputs": [
    {
     "data": {
      "text/plain": [
       "'4.0.0-beta11'"
      ]
     },
     "execution_count": 1,
     "metadata": {},
     "output_type": "execute_result"
    }
   ],
   "source": [
    "import difPy\n",
    "difPy.__version__"
   ]
  },
  {
   "cell_type": "markdown",
   "metadata": {},
   "source": [
    "In the following examples we will use a directory with the following folder structure:\n",
    "\n",
    "&emsp;.<br>\n",
    "&emsp;|- **Folder1**<br>\n",
    "&emsp;|&emsp;|- image1.jpg<br>\n",
    "&emsp;|&emsp;|- ...<br>\n",
    "&emsp;|&emsp;|- imageN.jpg<br>\n",
    "&emsp;|- **Folder2**<br>\n",
    "&emsp;|&emsp;|- image1.jpg<br>\n",
    "&emsp;|&emsp;|- ...<br>\n",
    "&emsp;|&emsp;|- imageN.jpg<br>\n",
    "&emsp;|- image1.jpg<br>\n",
    "&emsp;|- ...<br>\n",
    "&emsp;|- imageN.jpg<br>\n",
    "\n",
    "It contains 2 subdirectories `Folder1` and `Folder2` and a few images (in our example we have a total of 22 images that include 7 pairs of duplicates).\n",
    "\n",
    "## I. Basic Single Folder Search\n",
    "\n",
    "Firstly, we need to build a `dif` object which will contain the repository of images and image tensors."
   ]
  },
  {
   "cell_type": "code",
   "execution_count": 3,
   "metadata": {},
   "outputs": [
    {
     "name": "stdout",
     "output_type": "stream",
     "text": [
      "difPy preparing files: [100%]\n"
     ]
    }
   ],
   "source": [
    "dif = difPy.build(\"C:/Pictures/difPy Test\")"
   ]
  },
  {
   "cell_type": "markdown",
   "metadata": {},
   "source": [
    "After having build the repository, we can invoke difPy's search feature to let it search for duplicates among the images."
   ]
  },
  {
   "cell_type": "code",
   "execution_count": 4,
   "metadata": {},
   "outputs": [
    {
     "name": "stdout",
     "output_type": "stream",
     "text": [
      "difPy searching files: [100%]\n"
     ]
    }
   ],
   "source": [
    "search = difPy.search(dif)"
   ]
  },
  {
   "cell_type": "markdown",
   "metadata": {},
   "source": [
    "Output the result of the search process:"
   ]
  },
  {
   "cell_type": "code",
   "execution_count": null,
   "metadata": {},
   "outputs": [],
   "source": [
    "search.result"
   ]
  },
  {
   "cell_type": "code",
   "execution_count": null,
   "metadata": {},
   "outputs": [],
   "source": [
    "# > Output\n",
    "\n",
    "{152101248435483263223868727742281888434: \n",
    "    {'location': 'C:\\\\Pictures\\\\difPy Test\\\\Folder1\\\\Folder1_Files (1).png',\n",
    "     'matches': {218998084323469732336137050027392537538: \n",
    "                    {'location': 'C:\\\\Pictures\\\\difPy Test\\\\Folder1\\\\Folder1_Files (2).png',\n",
    "                     'mse': 0.0},\n",
    "                 149063264974240208220478733702797119308: \n",
    "                    {'location': 'C:\\\\Pictures\\\\difPy Test\\\\Main_Folder_files (1).png',\n",
    "                     'mse': 0.0}}},\n",
    " 22636187817081990587967668041826814190: \n",
    "    {'location': 'C:\\\\Pictures\\\\difPy Test\\\\Folder1\\\\Folder1_Files (3).png',\n",
    "     'matches': {174403622781798519274435373860283880785: \n",
    "                    {'location': 'C:\\\\Pictures\\\\difPy Test\\\\Folder1\\\\Folder1_Files (4).png',\n",
    "                     'mse': 0.0},\n",
    "                 338410529253241118027323176907943126769: \n",
    "                    {'location': 'C:\\\\Pictures\\\\difPy Test\\\\Main_Folder_files (2).png',\n",
    "                     'mse': 0.0}}},\n",
    " 76665284592033273964231284549474486828: \n",
    "    {'location': 'C:\\\\Pictures\\\\difPy Test\\\\Folder2\\\\Folder2_Files (1).jpg',\n",
    "     'matches': {204994251620760622645353609131380975785: \n",
    "                    {'location': 'C:\\\\Pictures\\\\difPy Test\\\\Folder2\\\\Folder2_Files (4).jpg',\n",
    "                     'mse': 0.0}}},\n",
    "90973933985186530600072841488145022274: \n",
    "    {'location': 'C:\\\\Pictures\\\\difPy Test\\\\Folder2\\\\Folder2_Files (2).jpg',\n",
    "     'matches': {320625470485905842454128517620228860689: \n",
    "                    {'location': 'C:\\\\Pictures\\\\difPy Test\\\\Folder2\\\\Folder2_Files (3).jpg',\n",
    "                     'mse': 0.0}}},\n",
    " 155282432310800845768869493841794469647: \n",
    "    {'location': 'C:\\\\Pictures\\\\difPy Test\\\\Main_Folder_files (5).png',\n",
    "     'matches': {76376570623726054665503729074941265231: \n",
    "                    {'location': 'C:\\\\Pictures\\\\difPy Test\\\\Main_Folder_files (6).png',\n",
    "                     'mse': 0.0}}}}"
   ]
  },
  {
   "cell_type": "markdown",
   "metadata": {},
   "source": [
    "Analyze statistics around the difPy search result:"
   ]
  },
  {
   "cell_type": "code",
   "execution_count": null,
   "metadata": {},
   "outputs": [],
   "source": [
    "search.stats"
   ]
  },
  {
   "cell_type": "code",
   "execution_count": null,
   "metadata": {},
   "outputs": [],
   "source": [
    "# > Output\n",
    "\n",
    "{'directory': ['C:/Pictures/difPy Test'],\n",
    " 'process': {'build':\n",
    "                {'duration': {'start': '2023-08-29T23:31:20.210531',\n",
    "                              'end': '2023-08-29T23:31:21.377826',\n",
    "                              'seconds_elapsed': 1.1673},\n",
    "                 'parameters': {'recursive': True,\n",
    "                                'in_folder': False,\n",
    "                                'limit_extensions': True,\n",
    "                                'px_size': 50}},\n",
    "             'search': \n",
    "                {'duration': {'start': '2023-08-29T23:31:25.408573',\n",
    "                              'end': '2023-08-29T23:31:26.435525',\n",
    "                              'seconds_elapsed': 1.027},\n",
    "                 'parameters': {'similarity_mse': 0},\n",
    "                 'files_searched': 17,\n",
    "                 'matches_found': {'duplicates': 7, \n",
    "                                   'similar': 0}}},\n",
    " 'invalid_files': {'count': 5,\n",
    "                   'logs': {'C:\\\\Pictures\\\\difPy Test\\\\Folder1\\\\Folder1_Files (1).avif': 'ImageFilterWarning: invalid image extension.',\n",
    "                            'C:\\\\Pictures\\\\difPy Test\\\\Folder1\\\\Folder1_Files (2).avif': 'ImageFilterWarning: invalid image extension.',\n",
    "                            'C:\\\\Pictures\\\\difPy Test\\\\Main_Folder_files (1).avif': 'ImageFilterWarning: invalid image extension.',\n",
    "                            'C:\\\\Pictures\\\\difPy Test\\\\Main_Folder_files (1).lnk': 'ImageFilterWarning: invalid image extension.',\n",
    "                            'C:\\\\Pictures\\\\difPy Test\\\\Main_Folder_files (2).avif': 'ImageFilterWarning: invalid image extension.'}}}"
   ]
  },
  {
   "cell_type": "markdown",
   "metadata": {},
   "source": [
    "## II. Basic Multi Folder Search"
   ]
  },
  {
   "cell_type": "markdown",
   "metadata": {},
   "source": [
    "difPy supports searching among multiple input folders:"
   ]
  },
  {
   "cell_type": "code",
   "execution_count": 20,
   "metadata": {},
   "outputs": [
    {
     "name": "stdout",
     "output_type": "stream",
     "text": [
      "difPy preparing files: [100%]\n",
      "difPy searching files: [100%]\n"
     ]
    }
   ],
   "source": [
    "dif = difPy.build(\"C:/Users/elise/Pictures/difPy Test/Folder1\", \n",
    "                  \"C:/Users/elise/Pictures/difPy Test/Folder2\")\n",
    "\n",
    "search = difPy.search(dif)"
   ]
  },
  {
   "cell_type": "markdown",
   "metadata": {},
   "source": [
    "## III. In-Folder Search\n",
    "\n",
    "By default, difPy will search for matches in the union of all directories specified in the `directory` parameter. In this example, we want to make difPy only search for matches within each folder separately. \n",
    "\n",
    "We can do this by setting `in_folder` to `True`."
   ]
  },
  {
   "cell_type": "code",
   "execution_count": 10,
   "metadata": {},
   "outputs": [
    {
     "name": "stdout",
     "output_type": "stream",
     "text": [
      "difPy preparing files: [100%]\n"
     ]
    }
   ],
   "source": [
    "dif = difPy.build(\"C:/Pictures/difPy Test\", in_folder = True)"
   ]
  },
  {
   "cell_type": "markdown",
   "metadata": {},
   "source": [
    "Run the search:"
   ]
  },
  {
   "cell_type": "code",
   "execution_count": 12,
   "metadata": {},
   "outputs": [
    {
     "name": "stdout",
     "output_type": "stream",
     "text": [
      "difPy searching files: [100%]\n"
     ]
    }
   ],
   "source": [
    "search = difPy.search(dif)"
   ]
  },
  {
   "cell_type": "code",
   "execution_count": null,
   "metadata": {},
   "outputs": [],
   "source": [
    "search.result"
   ]
  },
  {
   "cell_type": "code",
   "execution_count": null,
   "metadata": {},
   "outputs": [],
   "source": [
    "# > Output\n",
    "\n",
    "{'group_0': {'location': 'C:\\\\Pictures\\\\difPy Test',\n",
    "             'contents': {98709272196713849344848018014435789097: \n",
    "                            {'location': 'C:\\\\Pictures\\\\difPy Test\\\\Main_Folder_files (5).png',\n",
    "                             'matches': {71478117174850943214577159598373355637: \n",
    "                                            {'location': 'C:\\\\Pictures\\\\difPy Test\\\\Main_Folder_files (6).png',\n",
    "                                             'mse': 0.0}}}}},\n",
    " 'group_1': {'location': 'C:\\\\Pictures\\\\difPy Test\\\\Folder1',\n",
    "             'contents': {239884997223852077903937741023120511368: \n",
    "                            {'location': 'C:\\\\Pictures\\\\difPy Test\\\\Folder1\\\\Folder1_Files (1).png',\n",
    "                             'matches': {255164768522949980820784701796222517077: \n",
    "                                            {'location': 'C:\\\\Pictures\\\\difPy Test\\\\Folder1\\\\Folder1_Files (2).png',\n",
    "                                             'mse': 0.0}}},\n",
    "                          328291229701187883127704154870577749509: \n",
    "                            {'location': 'C:\\\\Pictures\\\\difPy Test\\\\Folder1\\\\Folder1_Files (3).png',\n",
    "                             'matches': {322539927784269412928170787873655878487: \n",
    "                                            {'location': 'C:\\\\Pictures\\\\difPy Test\\\\Folder1\\\\Folder1_Files (4).png',\n",
    "                                             'mse': 0.0}}}}},\n",
    " 'group_2': {'location': 'C:\\\\Pictures\\\\difPy Test\\\\Folder2',\n",
    "             'contents': {159772767701427368585036770862084098312: \n",
    "                            {'location': 'C:\\\\Pictures\\\\difPy Test\\\\Folder2\\\\Folder2_Files (1).jpg',\n",
    "                             'matches': {62855373167845162697259548417873655065: \n",
    "                                            {'location': 'C:\\\\Pictures\\\\difPy Test\\\\Folder2\\\\Folder2_Files (4).jpg',\n",
    "                                             'mse': 0.0}}},\n",
    "                          40115952529100222280989417554751604167: \n",
    "                            {'location': 'C:\\\\Pictures\\\\difPy Test\\\\Folder2\\\\Folder2_Files (2).jpg',\n",
    "                             'matches': {251561559539487576337507392003670007376: \n",
    "                                            {'location': 'C:\\\\Pictures\\\\difPy Test\\\\Folder2\\\\Folder2_Files (3).jpg',\n",
    "                                             'mse': 0.0}}}}}}"
   ]
  },
  {
   "cell_type": "markdown",
   "metadata": {},
   "source": [
    "We can see above that the results and matches have now been formatted by groups i. e. by folders."
   ]
  },
  {
   "cell_type": "markdown",
   "metadata": {},
   "source": []
  }
 ],
 "metadata": {
  "kernelspec": {
   "display_name": "Python 3",
   "language": "python",
   "name": "python3"
  },
  "language_info": {
   "codemirror_mode": {
    "name": "ipython",
    "version": 3
   },
   "file_extension": ".py",
   "mimetype": "text/x-python",
   "name": "python",
   "nbconvert_exporter": "python",
   "pygments_lexer": "ipython3",
   "version": "3.11.2"
  },
  "orig_nbformat": 4
 },
 "nbformat": 4,
 "nbformat_minor": 2
}
